{
  "cells": [
    {
      "cell_type": "markdown",
      "metadata": {
        "colab_type": "text",
        "id": "view-in-github"
      },
      "source": [
        "<a href=\"https://colab.research.google.com/github/DavidToca/ML-Toronto-AutoTheft/blob/main/ML_AutoTheft_Toronto.ipynb\" target=\"_parent\"><img src=\"https://colab.research.google.com/assets/colab-badge.svg\" alt=\"Open In Colab\"/></a>"
      ]
    },
    {
      "cell_type": "markdown",
      "metadata": {
        "id": "TRShdddt2ssR"
      },
      "source": [
        "# Dataset of Major Crime Indicators Open Data\n",
        "\n",
        "## Source:\n",
        "https://data.torontopolice.on.ca/datasets/TorontoPS::major-crime-indicators-open-data/about\n",
        "\n",
        "## Description:\n",
        "\n",
        "This dataset includes all Major Crime Indicators (MCI) occurrences by reported date and related\n",
        "offences. The MCI categories include Assault, Break and Enter, Auto Theft, Robbery and Theft\n",
        "Over. This data is provided at the offence and/or victim level, therefore one occurrence number\n",
        "may have several records associated to the various MCIs used to categorize the occurrence. This\n",
        "data does not include occurrences that have been deemed unfounded. The definition of\n",
        "unfounded according to Statistics Canada is: “It has been determined through police\n",
        "investigation that the offence reported did not occur, nor was it attempted” (Statistics Canada,\n",
        "2020).\n",
        "\n",
        "# Documentation\n",
        "\n",
        "Toronto police provides documentation of this dataset that shows what each field represents here  https://torontops.maps.arcgis.com/sharing/rest/content/items/c0b17f1888544078bf650f3b8b04d35d/data. As we will see soon, this information is incomplete.\n",
        "\n",
        "I've extracted the documentation from this fields here:\n",
        "\n",
        "| Field | FieldName | Description |\n",
        "|----------|----------|----------|\n",
        "1|EVENT_UNIQUE_ID|Offence Number\n",
        "2|REPORT_DATE|Date Offence was Reported (time is displayed in UTCformat when downloaded as a CSV)\n",
        "3|OCC_DATE| Date Offence Occurred (time is displayed in UTC format when downloaded as a CSV)\n",
        "4|REPORT_YEAR| Year Offence was Reported\n",
        "5|REPORT_MONTH| Month Offence was Reported\n",
        "6|REPORT_DAY| Day of the Month Offence was Reported\n",
        "7|REPORT_DOY| Day of the Year Offence was Reported\n",
        "8|REPORT_DOW| Day of the Week Offence was Reported\n",
        "9|REPORT_HOUR| Hour Offence was Reported\n",
        "10|OCC_YEAR| Year Offence Occurred\n",
        "11|OCC_MONTH| Month Offence Occurred\n",
        "12|OCC_DAY| Day of the Month Offence Occurred\n",
        "13|OCC_DOY| Day of the Year Offence Occurred\n",
        "14|OCC_DOW| Day of the Week Offence Occurred\n",
        "15|OCC_HOUR|Hour Offence Occurred\n",
        "16|DIVISION|Police Division where Offence Occurred\n",
        "17|LOCATION_TYPE|Location Type of Offence\n",
        "18|PREMISES_TYPE|Premises Type of Offence\n",
        "19|UCR_CODE|UCR Code for Offence\n",
        "20|UCR_EXT|UCR Extension for Offence\n",
        "21|OFFENCE|Title of Offence\n",
        "22|MCI_CATEGORY|MCI Category of Occurrence\n",
        "23|HOOD_158|Identifier of Neighbourhood using City of Toronto's new 158 neighbourhood structure\n",
        "24|NEIGHBOURHOOD_158|Name of Neighbourhood using City of Toronto's new 158 neighbourhood structure\n",
        "25|HOOD_140|Identifier of Neighbourhood using City of Toronto's old 140 neighbourhood structure\n",
        "26|NEIGHBOURHOOD_140|Name of Neighbourhood using City of Toronto's old 140 neighbourhood structure\n",
        "27|LONG_WGS84|Longitude Coordinates (Offset to nearest intersection)\n",
        "28|LAT_WGS84|Latitude Coordinates (Offset to nearest intersection)"
      ]
    },
    {
      "cell_type": "markdown",
      "metadata": {
        "id": "WKKzhZqO3tsi"
      },
      "source": [
        "# Objective\n",
        "Develop a model that predicts auto theft crimes in Toronto"
      ]
    },
    {
      "cell_type": "markdown",
      "metadata": {
        "id": "ceDN4QB42nkb"
      },
      "source": [
        "# EDA\n",
        "\n",
        "Let's start by loading the data, and identifying outstanding information.\n",
        "(Download the dataset and place it in /content/Major_Crime_Indicators_Open_Data.csv)"
      ]
    },
    {
      "cell_type": "code",
      "execution_count": 1,
      "metadata": {
        "colab": {
          "base_uri": "https://localhost:8080/"
        },
        "id": "D7L9tiZ85Nt4",
        "outputId": "e688a13d-1e46-4219-fbc0-d766d18436d7"
      },
      "outputs": [
        {
          "name": "stdout",
          "output_type": "stream",
          "text": [
            "(372899, 31)\n"
          ]
        }
      ],
      "source": [
        "import pandas as pd\n",
        "import warnings\n",
        "\n",
        "# Disable all warnings\n",
        "warnings.filterwarnings(\"ignore\")\n",
        "\n",
        "# TODO - load from google drive (make sure that file is public)\n",
        "FILE_PATH = \"content/Major_Crime_Indicators_Open_Data.csv\"\n",
        "df = pd.read_csv(FILE_PATH)\n",
        "\n",
        "print(df.shape)"
      ]
    },
    {
      "cell_type": "markdown",
      "metadata": {
        "id": "32zaxeVT7Rpx"
      },
      "source": [
        "We notice that we have 31 columns, but acording to the documentation only accounts for 28 columns. Let's further explore the data"
      ]
    },
    {
      "cell_type": "code",
      "execution_count": 2,
      "metadata": {
        "colab": {
          "base_uri": "https://localhost:8080/"
        },
        "id": "7MguLyG-9E6Q",
        "outputId": "77aac5a8-6659-4da5-d0c7-338828b4e745"
      },
      "outputs": [
        {
          "name": "stdout",
          "output_type": "stream",
          "text": [
            "<class 'pandas.core.frame.DataFrame'>\n",
            "RangeIndex: 372899 entries, 0 to 372898\n",
            "Data columns (total 31 columns):\n",
            " #   Column             Non-Null Count   Dtype  \n",
            "---  ------             --------------   -----  \n",
            " 0   X                  372899 non-null  float64\n",
            " 1   Y                  372899 non-null  float64\n",
            " 2   OBJECTID           372899 non-null  int64  \n",
            " 3   EVENT_UNIQUE_ID    372899 non-null  object \n",
            " 4   REPORT_DATE        372899 non-null  object \n",
            " 5   OCC_DATE           372899 non-null  object \n",
            " 6   REPORT_YEAR        372899 non-null  int64  \n",
            " 7   REPORT_MONTH       372899 non-null  object \n",
            " 8   REPORT_DAY         372899 non-null  int64  \n",
            " 9   REPORT_DOY         372899 non-null  int64  \n",
            " 10  REPORT_DOW         372899 non-null  object \n",
            " 11  REPORT_HOUR        372899 non-null  int64  \n",
            " 12  OCC_YEAR           372788 non-null  float64\n",
            " 13  OCC_MONTH          372788 non-null  object \n",
            " 14  OCC_DAY            372788 non-null  float64\n",
            " 15  OCC_DOY            372788 non-null  float64\n",
            " 16  OCC_DOW            372788 non-null  object \n",
            " 17  OCC_HOUR           372899 non-null  int64  \n",
            " 18  DIVISION           372899 non-null  object \n",
            " 19  LOCATION_TYPE      372899 non-null  object \n",
            " 20  PREMISES_TYPE      372899 non-null  object \n",
            " 21  UCR_CODE           372899 non-null  int64  \n",
            " 22  UCR_EXT            372899 non-null  int64  \n",
            " 23  OFFENCE            372899 non-null  object \n",
            " 24  MCI_CATEGORY       372899 non-null  object \n",
            " 25  HOOD_158           372899 non-null  object \n",
            " 26  NEIGHBOURHOOD_158  372899 non-null  object \n",
            " 27  HOOD_140           372899 non-null  object \n",
            " 28  NEIGHBOURHOOD_140  372899 non-null  object \n",
            " 29  LONG_WGS84         372899 non-null  float64\n",
            " 30  LAT_WGS84          372899 non-null  float64\n",
            "dtypes: float64(7), int64(8), object(16)\n",
            "memory usage: 88.2+ MB\n"
          ]
        }
      ],
      "source": [
        "df.info()"
      ]
    },
    {
      "cell_type": "markdown",
      "metadata": {
        "id": "K0DGBaEY9Kho"
      },
      "source": [
        "# Analysis\n",
        "\n",
        "💡 The 2 extra columns correspond to coordinates X and Y.\n",
        "\n",
        "🚨 There's no non-null values, that's good news.\n",
        "\n",
        "We don't have any description about the crimes, but we have 2 columns OFFENCE and MCI_CATEGORY that can help us identify if it's an autothef"
      ]
    },
    {
      "cell_type": "code",
      "execution_count": 3,
      "metadata": {
        "colab": {
          "base_uri": "https://localhost:8080/",
          "height": 377
        },
        "id": "KtlG85ri6h5f",
        "outputId": "8f0a7a4c-f4ca-4a5e-fdee-f3922103a942"
      },
      "outputs": [
        {
          "data": {
            "text/html": [
              "<div>\n",
              "<style scoped>\n",
              "    .dataframe tbody tr th:only-of-type {\n",
              "        vertical-align: middle;\n",
              "    }\n",
              "\n",
              "    .dataframe tbody tr th {\n",
              "        vertical-align: top;\n",
              "    }\n",
              "\n",
              "    .dataframe thead th {\n",
              "        text-align: right;\n",
              "    }\n",
              "</style>\n",
              "<table border=\"1\" class=\"dataframe\">\n",
              "  <thead>\n",
              "    <tr style=\"text-align: right;\">\n",
              "      <th></th>\n",
              "      <th>X</th>\n",
              "      <th>Y</th>\n",
              "      <th>OBJECTID</th>\n",
              "      <th>EVENT_UNIQUE_ID</th>\n",
              "      <th>REPORT_DATE</th>\n",
              "      <th>OCC_DATE</th>\n",
              "      <th>REPORT_YEAR</th>\n",
              "      <th>REPORT_MONTH</th>\n",
              "      <th>REPORT_DAY</th>\n",
              "      <th>REPORT_DOY</th>\n",
              "      <th>...</th>\n",
              "      <th>UCR_CODE</th>\n",
              "      <th>UCR_EXT</th>\n",
              "      <th>OFFENCE</th>\n",
              "      <th>MCI_CATEGORY</th>\n",
              "      <th>HOOD_158</th>\n",
              "      <th>NEIGHBOURHOOD_158</th>\n",
              "      <th>HOOD_140</th>\n",
              "      <th>NEIGHBOURHOOD_140</th>\n",
              "      <th>LONG_WGS84</th>\n",
              "      <th>LAT_WGS84</th>\n",
              "    </tr>\n",
              "  </thead>\n",
              "  <tbody>\n",
              "    <tr>\n",
              "      <th>0</th>\n",
              "      <td>-8.809036e+06</td>\n",
              "      <td>5.431523e+06</td>\n",
              "      <td>1</td>\n",
              "      <td>GO-20141260264</td>\n",
              "      <td>2014/01/01 05:00:00+00</td>\n",
              "      <td>2014/01/01 05:00:00+00</td>\n",
              "      <td>2014</td>\n",
              "      <td>January</td>\n",
              "      <td>1</td>\n",
              "      <td>1</td>\n",
              "      <td>...</td>\n",
              "      <td>1430</td>\n",
              "      <td>100</td>\n",
              "      <td>Assault</td>\n",
              "      <td>Assault</td>\n",
              "      <td>143</td>\n",
              "      <td>West Rouge</td>\n",
              "      <td>131</td>\n",
              "      <td>Rouge (131)</td>\n",
              "      <td>-79.132915</td>\n",
              "      <td>43.780413</td>\n",
              "    </tr>\n",
              "    <tr>\n",
              "      <th>1</th>\n",
              "      <td>-8.814320e+06</td>\n",
              "      <td>5.435514e+06</td>\n",
              "      <td>2</td>\n",
              "      <td>GO-20141260033</td>\n",
              "      <td>2014/01/01 05:00:00+00</td>\n",
              "      <td>2013/12/31 05:00:00+00</td>\n",
              "      <td>2014</td>\n",
              "      <td>January</td>\n",
              "      <td>1</td>\n",
              "      <td>1</td>\n",
              "      <td>...</td>\n",
              "      <td>1430</td>\n",
              "      <td>100</td>\n",
              "      <td>Assault</td>\n",
              "      <td>Assault</td>\n",
              "      <td>144</td>\n",
              "      <td>Morningside Heights</td>\n",
              "      <td>131</td>\n",
              "      <td>Rouge (131)</td>\n",
              "      <td>-79.180387</td>\n",
              "      <td>43.806289</td>\n",
              "    </tr>\n",
              "    <tr>\n",
              "      <th>2</th>\n",
              "      <td>-8.832825e+06</td>\n",
              "      <td>5.419631e+06</td>\n",
              "      <td>3</td>\n",
              "      <td>GO-20141259834</td>\n",
              "      <td>2014/01/01 05:00:00+00</td>\n",
              "      <td>2014/01/01 05:00:00+00</td>\n",
              "      <td>2014</td>\n",
              "      <td>January</td>\n",
              "      <td>1</td>\n",
              "      <td>1</td>\n",
              "      <td>...</td>\n",
              "      <td>1420</td>\n",
              "      <td>100</td>\n",
              "      <td>Assault With Weapon</td>\n",
              "      <td>Assault</td>\n",
              "      <td>55</td>\n",
              "      <td>Thorncliffe Park</td>\n",
              "      <td>55</td>\n",
              "      <td>Thorncliffe Park (55)</td>\n",
              "      <td>-79.346615</td>\n",
              "      <td>43.703234</td>\n",
              "    </tr>\n",
              "    <tr>\n",
              "      <th>3</th>\n",
              "      <td>-8.847292e+06</td>\n",
              "      <td>5.429042e+06</td>\n",
              "      <td>4</td>\n",
              "      <td>GO-20141264084</td>\n",
              "      <td>2014/01/01 05:00:00+00</td>\n",
              "      <td>2013/12/31 05:00:00+00</td>\n",
              "      <td>2014</td>\n",
              "      <td>January</td>\n",
              "      <td>1</td>\n",
              "      <td>1</td>\n",
              "      <td>...</td>\n",
              "      <td>1420</td>\n",
              "      <td>110</td>\n",
              "      <td>Assault Bodily Harm</td>\n",
              "      <td>Assault</td>\n",
              "      <td>27</td>\n",
              "      <td>York University Heights</td>\n",
              "      <td>27</td>\n",
              "      <td>York University Heights (27)</td>\n",
              "      <td>-79.476579</td>\n",
              "      <td>43.764317</td>\n",
              "    </tr>\n",
              "    <tr>\n",
              "      <th>4</th>\n",
              "      <td>6.327780e-09</td>\n",
              "      <td>5.664924e-09</td>\n",
              "      <td>5</td>\n",
              "      <td>GO-20141260577</td>\n",
              "      <td>2014/01/01 05:00:00+00</td>\n",
              "      <td>2014/01/01 05:00:00+00</td>\n",
              "      <td>2014</td>\n",
              "      <td>January</td>\n",
              "      <td>1</td>\n",
              "      <td>1</td>\n",
              "      <td>...</td>\n",
              "      <td>1610</td>\n",
              "      <td>180</td>\n",
              "      <td>Robbery - Swarming</td>\n",
              "      <td>Robbery</td>\n",
              "      <td>NSA</td>\n",
              "      <td>NSA</td>\n",
              "      <td>NSA</td>\n",
              "      <td>NSA</td>\n",
              "      <td>0.000000</td>\n",
              "      <td>0.000000</td>\n",
              "    </tr>\n",
              "  </tbody>\n",
              "</table>\n",
              "<p>5 rows × 31 columns</p>\n",
              "</div>"
            ],
            "text/plain": [
              "              X             Y  OBJECTID EVENT_UNIQUE_ID  \\\n",
              "0 -8.809036e+06  5.431523e+06         1  GO-20141260264   \n",
              "1 -8.814320e+06  5.435514e+06         2  GO-20141260033   \n",
              "2 -8.832825e+06  5.419631e+06         3  GO-20141259834   \n",
              "3 -8.847292e+06  5.429042e+06         4  GO-20141264084   \n",
              "4  6.327780e-09  5.664924e-09         5  GO-20141260577   \n",
              "\n",
              "              REPORT_DATE                OCC_DATE  REPORT_YEAR REPORT_MONTH  \\\n",
              "0  2014/01/01 05:00:00+00  2014/01/01 05:00:00+00         2014      January   \n",
              "1  2014/01/01 05:00:00+00  2013/12/31 05:00:00+00         2014      January   \n",
              "2  2014/01/01 05:00:00+00  2014/01/01 05:00:00+00         2014      January   \n",
              "3  2014/01/01 05:00:00+00  2013/12/31 05:00:00+00         2014      January   \n",
              "4  2014/01/01 05:00:00+00  2014/01/01 05:00:00+00         2014      January   \n",
              "\n",
              "   REPORT_DAY  REPORT_DOY  ... UCR_CODE  UCR_EXT              OFFENCE  \\\n",
              "0           1           1  ...     1430      100              Assault   \n",
              "1           1           1  ...     1430      100              Assault   \n",
              "2           1           1  ...     1420      100  Assault With Weapon   \n",
              "3           1           1  ...     1420      110  Assault Bodily Harm   \n",
              "4           1           1  ...     1610      180   Robbery - Swarming   \n",
              "\n",
              "  MCI_CATEGORY  HOOD_158        NEIGHBOURHOOD_158 HOOD_140  \\\n",
              "0      Assault       143               West Rouge      131   \n",
              "1      Assault       144      Morningside Heights      131   \n",
              "2      Assault        55         Thorncliffe Park       55   \n",
              "3      Assault        27  York University Heights       27   \n",
              "4      Robbery       NSA                      NSA      NSA   \n",
              "\n",
              "              NEIGHBOURHOOD_140 LONG_WGS84  LAT_WGS84  \n",
              "0                   Rouge (131) -79.132915  43.780413  \n",
              "1                   Rouge (131) -79.180387  43.806289  \n",
              "2         Thorncliffe Park (55) -79.346615  43.703234  \n",
              "3  York University Heights (27) -79.476579  43.764317  \n",
              "4                           NSA   0.000000   0.000000  \n",
              "\n",
              "[5 rows x 31 columns]"
            ]
          },
          "execution_count": 3,
          "metadata": {},
          "output_type": "execute_result"
        }
      ],
      "source": [
        "df.head()"
      ]
    },
    {
      "cell_type": "markdown",
      "metadata": {
        "id": "ZTChsxii50Zc"
      },
      "source": [
        "We can notice that we have multiple crimes being logged, not sure autotheft. We also notice that we have 2014 data. Let's explore this in more detail."
      ]
    },
    {
      "cell_type": "code",
      "execution_count": 4,
      "metadata": {
        "colab": {
          "base_uri": "https://localhost:8080/",
          "height": 920
        },
        "id": "kfoCTm198ksO",
        "outputId": "4ce71fbc-bfd3-4510-aefc-3f6b8065c5bb"
      },
      "outputs": [
        {
          "data": {
            "text/plain": [
              "OFFENCE\n",
              "Assault                           135392\n",
              "B&E                                59033\n",
              "Theft Of Motor Vehicle             58441\n",
              "Assault With Weapon                33764\n",
              "Robbery - Mugging                   9053\n",
              "B&E W'Intent                        8754\n",
              "Assault Bodily Harm                 8555\n",
              "Theft Over                          6961\n",
              "Assault Peace Officer               6278\n",
              "Robbery With Weapon                 6134\n",
              "Robbery - Other                     5634\n",
              "Robbery - Business                  5222\n",
              "Assault - Resist/ Prevent Seiz      3381\n",
              "Theft From Motor Vehicle Over       3075\n",
              "Aggravated Assault                  2884\n",
              "Robbery - Swarming                  2524\n",
              "Discharge Firearm With Intent       2300\n",
              "Unlawfully In Dwelling-House        2219\n",
              "Discharge Firearm - Recklessly      1664\n",
              "Theft From Mail / Bag / Key         1464\n",
              "Pointing A Firearm                  1350\n",
              "Robbery - Home Invasion             1290\n",
              "Robbery - Vehicle Jacking           1211\n",
              "Robbery - Purse Snatch              1122\n",
              "Robbery - Financial Institute        990\n",
              "Assault Peace Officer Wpn/Cbh        741\n",
              "Theft Over - Shoplifting             614\n",
              "Administering Noxious Thing          611\n",
              "Assault - Force/Thrt/Impede          422\n",
              "Robbery - Delivery Person            300\n",
              "Robbery - Taxi                       268\n",
              "Use Firearm / Immit Commit Off       211\n",
              "Theft Over - Bicycle                 177\n",
              "Theft Over - Distraction             144\n",
              "Disarming Peace/Public Officer       130\n",
              "Crim Negligence Bodily Harm          127\n",
              "Robbery - Atm                        118\n",
              "B&E Out                              113\n",
              "Robbery - Armoured Car                53\n",
              "Theft - Misapprop Funds Over          39\n",
              "Air Gun Or Pistol: Bodily Harm        29\n",
              "Aggravated Aslt Peace Officer         28\n",
              "Aggravated Assault Avails Pros        19\n",
              "B&E - To Steal Firearm                16\n",
              "Unlawfully Causing Bodily Harm        14\n",
              "B&E - M/Veh To Steal Firearm          13\n",
              "Theft Of Utilities Over                9\n",
              "Traps Likely Cause Bodily Harm         2\n",
              "Set/Place Trap/Intend Death/Bh         2\n",
              "Robbery To Steal Firearm               2\n",
              "Hoax Terrorism Causing Bodily          2\n",
              "Name: count, dtype: int64"
            ]
          },
          "metadata": {},
          "output_type": "display_data"
        }
      ],
      "source": [
        "# prompt: group by OFFENCE, then show me which values it has, order by the one with the most count. show this as a PIE chart\n",
        "\n",
        "import matplotlib.pyplot as plt\n",
        "\n",
        "# Group the data by OFFENCE and count the occurrences\n",
        "offence_counts = df['OFFENCE'].value_counts()\n",
        "display(offence_counts)\n"
      ]
    },
    {
      "cell_type": "code",
      "execution_count": 5,
      "metadata": {
        "colab": {
          "base_uri": "https://localhost:8080/",
          "height": 428
        },
        "id": "XfrYe6ZGAAx2",
        "outputId": "853cdc34-fb27-4ca7-f446-909e5f6edb7e"
      },
      "outputs": [
        {
          "data": {
            "image/png": "[encoded data removed]",
            "text/plain": [
              "<Figure size 640x480 with 1 Axes>"
            ]
          },
          "metadata": {},
          "output_type": "display_data"
        }
      ],
      "source": [
        "# Get the top 10 offences\n",
        "top_10_offences = offence_counts.head(10)\n",
        "\n",
        "# Create a pie chart\n",
        "plt.pie(top_10_offences, labels=top_10_offences.index, autopct='%1.1f%%')\n",
        "plt.title('Top 10 Offences in Toronto')\n",
        "plt.show()"
      ]
    },
    {
      "cell_type": "markdown",
      "metadata": {
        "id": "Yh1ukCOV-lzm"
      },
      "source": [
        "# Analysis\n",
        "\n",
        "💡 There are two interesting offences: \"Theft Of Motor Vehicle\" and \"Theft From Motor Vehicle Over\".\n",
        "\n",
        "After some digging, this is what I found:\n",
        "\n",
        "\"Theft From Motor Vehicle Over\": This category refers to theft of items from inside a motor vehicle. It includes incidents where items such as personal belongings, electronic devices, or valuables are stolen from a vehicle, typically without the vehicle itself being stolen. Examples include theft of purses, wallets, laptops, or electronic gadgets left in plain sight within the vehicle.\n",
        "\n",
        "\"Theft From Motor Vehicle Over\": This category refers to the theft of the motor vehicle itself. It includes incidents where the entire vehicle is stolen by unauthorized individuals. This can involve stealing parked cars from public streets, parking lots, or private driveways. In some cases, stolen vehicles may be used for joyriding, resale, or other criminal activities.\n",
        "\n",
        "Based on this, we will only be using **Theft From Motor Vehicle Over**\n",
        "\n",
        "💡 **We can also see that \"Theft Of Motor Vehicle\" is the third most reported crime across all years**"
      ]
    },
    {
      "cell_type": "code",
      "execution_count": 6,
      "metadata": {
        "colab": {
          "base_uri": "https://localhost:8080/",
          "height": 451
        },
        "id": "4ZVxmZp0jkg2",
        "outputId": "f2d6a0c2-5dd0-4cdc-b5d5-bf3873e09060"
      },
      "outputs": [
        {
          "data": {
            "text/plain": [
              "[2000.0,\n",
              " 2001.0,\n",
              " 2002.0,\n",
              " 2003.0,\n",
              " 2004.0,\n",
              " 2005.0,\n",
              " 2006.0,\n",
              " 2007.0,\n",
              " 2008.0,\n",
              " 2009.0,\n",
              " 2010.0,\n",
              " 2011.0,\n",
              " 2012.0,\n",
              " 2013.0,\n",
              " 2014.0,\n",
              " nan,\n",
              " 2015.0,\n",
              " 2016.0,\n",
              " 2017.0,\n",
              " 2018.0,\n",
              " 2019.0,\n",
              " 2020.0,\n",
              " 2021.0,\n",
              " 2022.0,\n",
              " 2023.0]"
            ]
          },
          "metadata": {},
          "output_type": "display_data"
        }
      ],
      "source": [
        "# check if there's a gap in the years.\n",
        "\n",
        "display(sorted(df['OCC_YEAR'].unique()))\n"
      ]
    },
    {
      "cell_type": "code",
      "execution_count": 7,
      "metadata": {
        "colab": {
          "base_uri": "https://localhost:8080/"
        },
        "id": "DuHFFCLmjPwO",
        "outputId": "2c84717c-be02-475f-83e2-2a1abaefedad"
      },
      "outputs": [
        {
          "name": "stdout",
          "output_type": "stream",
          "text": [
            "Year 2000.0 is missing months.\n",
            "Year 2001.0 is missing months.\n",
            "Year 2002.0 is missing months.\n",
            "Year 2003.0 is missing months.\n",
            "Year 2004.0 is missing months.\n",
            "Year 2005.0 is missing months.\n",
            "Year 2006.0 is missing months.\n",
            "Year 2007.0 is missing months.\n",
            "Year 2008.0 is missing months.\n"
          ]
        }
      ],
      "source": [
        "# Let's check if we have any missing months across the years\n",
        "\n",
        "offence_counts_per_month = df.groupby(['OCC_YEAR', 'OCC_MONTH']).size().reset_index(name='count')\n",
        "\n",
        "offence_counts_per_month['OCC_MONTH'] = offence_counts_per_month['OCC_MONTH'].replace(['January','February','March','April','May','June','July','August','September','October','November','December'], [1,2,3,4,5,6,7,8,9,10,11,12])\n",
        "\n",
        "# Check if there's a month that is not here (1-12) for each year\n",
        "for year in offence_counts_per_month['OCC_YEAR'].unique():\n",
        "  months = offence_counts_per_month[offence_counts_per_month['OCC_YEAR'] == year]['OCC_MONTH'].unique()\n",
        "  if not set(range(1, 13)).issubset(months):\n",
        "    print(f\"Year {year} is missing months.\")\n"
      ]
    },
    {
      "cell_type": "code",
      "execution_count": 8,
      "metadata": {
        "colab": {
          "base_uri": "https://localhost:8080/",
          "height": 451
        },
        "id": "3fc4idfxAV1i",
        "outputId": "2656afae-26c0-4060-8cd1-bf41b5eda06f"
      },
      "outputs": [
        {
          "data": {
            "text/plain": [
              "OCC_YEAR\n",
              "2023.0    47833\n",
              "2022.0    41299\n",
              "2019.0    40098\n",
              "2018.0    37545\n",
              "2017.0    35547\n",
              "2020.0    35196\n",
              "2021.0    34777\n",
              "2016.0    33654\n",
              "2015.0    32938\n",
              "2014.0    32477\n",
              "2013.0      620\n",
              "2012.0      212\n",
              "2011.0      143\n",
              "2010.0      103\n",
              "2009.0       82\n",
              "2008.0       49\n",
              "2005.0       36\n",
              "2007.0       36\n",
              "2004.0       31\n",
              "2000.0       27\n",
              "2006.0       23\n",
              "2002.0       23\n",
              "2001.0       22\n",
              "2003.0       17\n",
              "Name: count, dtype: int64"
            ]
          },
          "metadata": {},
          "output_type": "display_data"
        }
      ],
      "source": [
        "import matplotlib.pyplot as plt\n",
        "\n",
        "# Group the data by OCC_YEAR and count the occurrences\n",
        "offence_counts = df['OCC_YEAR'].value_counts()\n",
        "display(offence_counts)"
      ]
    },
    {
      "cell_type": "markdown",
      "metadata": {
        "id": "xWYVv19aAtF1"
      },
      "source": [
        "We can see that we have data back from 2003, but there's little to no date from 2003 to 2013. We will remove those from our data."
      ]
    },
    {
      "cell_type": "markdown",
      "metadata": {
        "id": "d8QdUs6WEcwW"
      },
      "source": [
        "Since we have geographical data, let's dig into which neighbourhood has the most reports overall just out of curiosity."
      ]
    },
    {
      "cell_type": "code",
      "execution_count": 9,
      "metadata": {
        "colab": {
          "base_uri": "https://localhost:8080/",
          "height": 225
        },
        "id": "T7vmF326ErEJ",
        "outputId": "2df65f42-bbbc-4b6c-fdf3-f6872924361f"
      },
      "outputs": [
        {
          "data": {
            "text/plain": [
              "NEIGHBOURHOOD_158\n",
              "West Humber-Clairville     10335\n",
              "Moss Park                   8641\n",
              "Downtown Yonge East         7768\n",
              "Yonge-Bay Corridor          7314\n",
              "York University Heights     7269\n",
              "                           ...  \n",
              "Yonge-St.Clair               757\n",
              "Maple Leaf                   743\n",
              "Guildwood                    688\n",
              "Woodbine-Lumsden             658\n",
              "Lambton Baby Point           591\n",
              "Name: count, Length: 159, dtype: int64"
            ]
          },
          "metadata": {},
          "output_type": "display_data"
        }
      ],
      "source": [
        "import matplotlib.pyplot as plt\n",
        "\n",
        "# Group the data by NEIGHBOURHOOD_158 and count the occurrences\n",
        "offence_counts_per_neig = df['NEIGHBOURHOOD_158'].value_counts()\n",
        "display(offence_counts_per_neig)"
      ]
    },
    {
      "cell_type": "code",
      "execution_count": 10,
      "metadata": {
        "colab": {
          "base_uri": "https://localhost:8080/",
          "height": 618
        },
        "id": "tL7bQhQEE71r",
        "outputId": "d398326c-90e2-4e48-f30b-b1b9c46fe52c"
      },
      "outputs": [
        {
          "data": {
            "image/png": "[encoded data removed]",
            "text/plain": [
              "<Figure size 640x480 with 1 Axes>"
            ]
          },
          "metadata": {},
          "output_type": "display_data"
        }
      ],
      "source": [
        "# prompt: ranking of top 10 offence_counts_per_neig\n",
        "\n",
        "# Get the top 10 neighbourhoods with the most offences\n",
        "top_10_neighbourhoods = offence_counts_per_neig.head(10)\n",
        "\n",
        "# Create a bar chart\n",
        "plt.bar(top_10_neighbourhoods.index, top_10_neighbourhoods)\n",
        "plt.xticks(rotation=90)\n",
        "plt.title('Top 10 Neighbourhoods with the Most Offences')\n",
        "plt.xlabel('Neighbourhood')\n",
        "plt.ylabel('Number of Offences')\n",
        "plt.show()\n"
      ]
    },
    {
      "cell_type": "code",
      "execution_count": 11,
      "metadata": {
        "colab": {
          "base_uri": "https://localhost:8080/",
          "height": 654
        },
        "id": "qGukRaXdFW3m",
        "outputId": "24fed134-f130-4d47-af66-5bb01dd42884"
      },
      "outputs": [
        {
          "data": {
            "image/png": "[encoded data removed]",
            "text/plain": [
              "<Figure size 640x480 with 1 Axes>"
            ]
          },
          "metadata": {},
          "output_type": "display_data"
        }
      ],
      "source": [
        "# prompt: ranking of least top 10 offence_counts_per_neig\n",
        "\n",
        "# Get the bottom 10 neighbourhoods with the least offences\n",
        "bottom_10_neighbourhoods = offence_counts_per_neig.tail(10)\n",
        "\n",
        "# Create a bar chart\n",
        "plt.bar(bottom_10_neighbourhoods.index, bottom_10_neighbourhoods)\n",
        "plt.xticks(rotation=90)\n",
        "plt.title('Bottom 10 Neighbourhoods with the Least Offences')\n",
        "plt.xlabel('Neighbourhood')\n",
        "plt.ylabel('Number of Offences')\n",
        "plt.show()\n"
      ]
    },
    {
      "cell_type": "markdown",
      "metadata": {
        "id": "sudVy5JoFoDn"
      },
      "source": [
        "It seems that there are a lot of reported crimes in West Humber-Clairville. However, it is not fair to solely use this information to determine whether a neighborhood is safer compared to others. This is because smaller neighborhoods like Maple Leaf may have fewer reported incidents compared to larger, more populated areas like Wellington Place."
      ]
    },
    {
      "cell_type": "markdown",
      "metadata": {
        "id": "W7uOEWThG9AD"
      },
      "source": [
        "# Data Preparation\n",
        "\n",
        "At this point, we can start filtering the data we're most interested in, auto theft crime, between 2014 and 2023.\n",
        "\n",
        "As we previously analyzed, there's no missing values that we need to worry about.\n",
        "\n",
        "We also need to parse the cronological data and create the necessary structure"
      ]
    },
    {
      "cell_type": "code",
      "execution_count": 12,
      "metadata": {
        "colab": {
          "base_uri": "https://localhost:8080/",
          "height": 559
        },
        "id": "HTgLciBIHPZ7",
        "outputId": "8f58f680-ac36-402e-a9da-2ccd1abad2e0"
      },
      "outputs": [
        {
          "data": {
            "text/html": [
              "<div>\n",
              "<style scoped>\n",
              "    .dataframe tbody tr th:only-of-type {\n",
              "        vertical-align: middle;\n",
              "    }\n",
              "\n",
              "    .dataframe tbody tr th {\n",
              "        vertical-align: top;\n",
              "    }\n",
              "\n",
              "    .dataframe thead th {\n",
              "        text-align: right;\n",
              "    }\n",
              "</style>\n",
              "<table border=\"1\" class=\"dataframe\">\n",
              "  <thead>\n",
              "    <tr style=\"text-align: right;\">\n",
              "      <th></th>\n",
              "      <th>year</th>\n",
              "      <th>month</th>\n",
              "      <th>day</th>\n",
              "    </tr>\n",
              "    <tr>\n",
              "      <th>index_date</th>\n",
              "      <th></th>\n",
              "      <th></th>\n",
              "      <th></th>\n",
              "    </tr>\n",
              "  </thead>\n",
              "  <tbody>\n",
              "    <tr>\n",
              "      <th>2014-01-01</th>\n",
              "      <td>2014.0</td>\n",
              "      <td>1</td>\n",
              "      <td>1</td>\n",
              "    </tr>\n",
              "    <tr>\n",
              "      <th>2014-01-01</th>\n",
              "      <td>2014.0</td>\n",
              "      <td>1</td>\n",
              "      <td>1</td>\n",
              "    </tr>\n",
              "    <tr>\n",
              "      <th>2014-01-01</th>\n",
              "      <td>2014.0</td>\n",
              "      <td>1</td>\n",
              "      <td>1</td>\n",
              "    </tr>\n",
              "    <tr>\n",
              "      <th>2014-01-01</th>\n",
              "      <td>2014.0</td>\n",
              "      <td>1</td>\n",
              "      <td>1</td>\n",
              "    </tr>\n",
              "    <tr>\n",
              "      <th>2014-01-01</th>\n",
              "      <td>2014.0</td>\n",
              "      <td>1</td>\n",
              "      <td>1</td>\n",
              "    </tr>\n",
              "    <tr>\n",
              "      <th>...</th>\n",
              "      <td>...</td>\n",
              "      <td>...</td>\n",
              "      <td>...</td>\n",
              "    </tr>\n",
              "    <tr>\n",
              "      <th>2023-12-01</th>\n",
              "      <td>2023.0</td>\n",
              "      <td>12</td>\n",
              "      <td>1</td>\n",
              "    </tr>\n",
              "    <tr>\n",
              "      <th>2023-12-01</th>\n",
              "      <td>2023.0</td>\n",
              "      <td>12</td>\n",
              "      <td>1</td>\n",
              "    </tr>\n",
              "    <tr>\n",
              "      <th>2023-12-01</th>\n",
              "      <td>2023.0</td>\n",
              "      <td>12</td>\n",
              "      <td>1</td>\n",
              "    </tr>\n",
              "    <tr>\n",
              "      <th>2023-12-01</th>\n",
              "      <td>2023.0</td>\n",
              "      <td>12</td>\n",
              "      <td>1</td>\n",
              "    </tr>\n",
              "    <tr>\n",
              "      <th>2023-12-01</th>\n",
              "      <td>2023.0</td>\n",
              "      <td>12</td>\n",
              "      <td>1</td>\n",
              "    </tr>\n",
              "  </tbody>\n",
              "</table>\n",
              "<p>58384 rows × 3 columns</p>\n",
              "</div>"
            ],
            "text/plain": [
              "              year  month  day\n",
              "index_date                    \n",
              "2014-01-01  2014.0      1    1\n",
              "2014-01-01  2014.0      1    1\n",
              "2014-01-01  2014.0      1    1\n",
              "2014-01-01  2014.0      1    1\n",
              "2014-01-01  2014.0      1    1\n",
              "...            ...    ...  ...\n",
              "2023-12-01  2023.0     12    1\n",
              "2023-12-01  2023.0     12    1\n",
              "2023-12-01  2023.0     12    1\n",
              "2023-12-01  2023.0     12    1\n",
              "2023-12-01  2023.0     12    1\n",
              "\n",
              "[58384 rows x 3 columns]"
            ]
          },
          "execution_count": 12,
          "metadata": {},
          "output_type": "execute_result"
        }
      ],
      "source": [
        "# prompt: filter df to only contain data with OFFENCE=\"Theft Of Motor Vehicle\" and exclude the OCC_YEAR=2003 up to 2013\n",
        "\n",
        "# Filter the data to only include auto theft crimes\n",
        "df_auto_theft = df[(df['OFFENCE'] == 'Theft Of Motor Vehicle') & (df['OCC_YEAR'] >= 2014)]\n",
        "\n",
        "# Remove data from 2003 to 2013\n",
        "df_auto_theft = df_auto_theft[df_auto_theft['OCC_YEAR'] > 2013]\n",
        "\n",
        "# translate month to number\n",
        "df_auto_theft['OCC_MONTH'] = df_auto_theft['OCC_MONTH'].replace(['January','February','March','April','May','June','July','August','September','October','November','December'], [1,2,3,4,5,6,7,8,9,10,11,12])\n",
        "\n",
        "\n",
        "df_auto_theft.rename(columns={'OCC_YEAR': 'year', 'OCC_MONTH': 'month'}, inplace=True)\n",
        "df_auto_theft['day'] = 1\n",
        "\n",
        "# Create timeseries\n",
        "df_auto_theft_ts = df_auto_theft[['year', 'month', 'day']]\n",
        "df_auto_theft_ts['index_date'] = pd.to_datetime(df_auto_theft_ts)\n",
        "df_auto_theft_ts.set_index('index_date', inplace=True)\n",
        "\n",
        "df_auto_theft_ts"
      ]
    },
    {
      "cell_type": "code",
      "execution_count": 13,
      "metadata": {
        "colab": {
          "base_uri": "https://localhost:8080/"
        },
        "id": "FI5H95EwJnoR",
        "outputId": "a5bd861e-6d2a-4728-b735-65f067bab52c"
      },
      "outputs": [
        {
          "data": {
            "text/plain": [
              "index_date\n",
              "2023-05-01    1154\n",
              "2023-06-01    1125\n",
              "2023-03-01    1096\n",
              "2023-11-01    1092\n",
              "2023-04-01    1081\n",
              "              ... \n",
              "2017-02-01     233\n",
              "2016-04-01     231\n",
              "2016-02-01     222\n",
              "2015-02-01     204\n",
              "2015-01-01     202\n",
              "Name: count, Length: 120, dtype: int64"
            ]
          },
          "execution_count": 13,
          "metadata": {},
          "output_type": "execute_result"
        }
      ],
      "source": [
        "ts_per_month = df_auto_theft_ts.value_counts(\"index_date\")\n",
        "ts_per_month"
      ]
    },
    {
      "cell_type": "code",
      "execution_count": 14,
      "metadata": {
        "colab": {
          "base_uri": "https://localhost:8080/",
          "height": 471
        },
        "id": "305bem4giWvA",
        "outputId": "be7e4601-a979-4b04-fff4-f993a93b111c"
      },
      "outputs": [
        {
          "data": {
            "text/plain": [
              "Text(0.5, 0, 'Date of offence')"
            ]
          },
          "execution_count": 14,
          "metadata": {},
          "output_type": "execute_result"
        },
        {
          "data": {
            "image/png": "[encoded data removed]",
            "text/plain": [
              "<Figure size 640x480 with 1 Axes>"
            ]
          },
          "metadata": {},
          "output_type": "display_data"
        }
      ],
      "source": [
        "import matplotlib.pyplot as plt\n",
        "import seaborn as sns\n",
        "\n",
        "sns.lineplot(ts_per_month)\n",
        "\n",
        "plt.ylabel(\"Report Count\")\n",
        "plt.xlabel(\"Date of offence\")"
      ]
    },
    {
      "cell_type": "markdown",
      "metadata": {
        "id": "07eSxor2kgLq"
      },
      "source": [
        "We can see a trend upwards across the years.\n",
        "\n",
        "During the Pandemic, the crimes decreased, and then we see an steady increase"
      ]
    },
    {
      "cell_type": "markdown",
      "metadata": {
        "id": "d4rAOGCck_AT"
      },
      "source": [
        "# Trying multiple models\n",
        "\n",
        "# 1. Divide the model between train and test"
      ]
    },
    {
      "cell_type": "code",
      "execution_count": 15,
      "metadata": {},
      "outputs": [
        {
          "data": {
            "text/plain": [
              "index_date\n",
              "2023-05-01    1154\n",
              "2023-06-01    1125\n",
              "2023-03-01    1096\n",
              "2023-11-01    1092\n",
              "2023-04-01    1081\n",
              "              ... \n",
              "2017-02-01     233\n",
              "2016-04-01     231\n",
              "2016-02-01     222\n",
              "2015-02-01     204\n",
              "2015-01-01     202\n",
              "Name: count, Length: 120, dtype: int64"
            ]
          },
          "execution_count": 15,
          "metadata": {},
          "output_type": "execute_result"
        }
      ],
      "source": [
        "ts_per_month"
      ]
    },
    {
      "cell_type": "code",
      "execution_count": 16,
      "metadata": {},
      "outputs": [
        {
          "data": {
            "image/png": "[encoded data removed]",
            "text/plain": [
              "<Figure size 640x480 with 1 Axes>"
            ]
          },
          "metadata": {},
          "output_type": "display_data"
        }
      ],
      "source": [
        "# Divide data between train and test\n",
        "\n",
        "from sklearn.linear_model import LinearRegression\n",
        "\n",
        "import matplotlib.pyplot as plt\n",
        "import seaborn as sns\n",
        "\n",
        "train = ts_per_month[ts_per_month.index <= pd.to_datetime(\"2022-01-01\", format='%Y-%m-%d')].sort_index()\n",
        "test = ts_per_month[ts_per_month.index >= pd.to_datetime(\"2022-01-01\", format='%Y-%m-%d')].sort_index()\n",
        "\n",
        "DEFAULT_GRAPHS = {\n",
        "    \"train\": train,\n",
        "    \"test\": test,\n",
        "}\n",
        "\n",
        "def display_autotheft(additional_graphs=None):\n",
        "  plt.ylabel(\"Report Count\")\n",
        "  plt.xlabel(\"Date of offence\")\n",
        "\n",
        "  for label, data in DEFAULT_GRAPHS.items():\n",
        "    sns.lineplot(data, label=label)\n",
        "\n",
        "  if additional_graphs:\n",
        "    for label, data in additional_graphs.items():\n",
        "      sns.lineplot(data, label=label)\n",
        "\n",
        "display_autotheft()"
      ]
    },
    {
      "cell_type": "markdown",
      "metadata": {
        "id": "55qHhECmiZWJ"
      },
      "source": [
        "# Implementation of multiple time series models"
      ]
    },
    {
      "cell_type": "code",
      "execution_count": 17,
      "metadata": {
        "id": "wMPczHiC7qTI"
      },
      "outputs": [],
      "source": [
        "from statsmodels.tsa.statespace.sarimax import SARIMAX\n",
        "\n",
        "def evaluate_sarimax():\n",
        "  model = SARIMAX(y, order = (1, 0, 0))\n",
        "  sarimax_model = model.fit()\n",
        "  start = len(train)\n",
        "  end = len(train) + len(test) - 1\n",
        "  predictions = sarimax_model.predict(start=start, end=end, dynamic=False)\n",
        "\n",
        "  y_pred_df = test.copy()\n",
        "  for i, value in enumerate(predictions):\n",
        "    y_pred_df[i] = predictions[i]\n",
        "  return y_pred_df"
      ]
    },
    {
      "cell_type": "code",
      "execution_count": 18,
      "metadata": {
        "id": "vVUR2XcTLK_B"
      },
      "outputs": [],
      "source": [
        "def evaluate_sarimax_sesonal():\n",
        "  model = SARIMAX(y, order = (1, 0, 0), seasonal_order=(2,2,2,12))\n",
        "  sarimax_model = model.fit()\n",
        "  start = len(train)\n",
        "  end = len(train) + len(test) - 1\n",
        "  predictions = sarimax_model.predict(start=start, end=end, dynamic=False)\n",
        "\n",
        "  y_pred_df = test.copy()\n",
        "  for i, value in enumerate(predictions):\n",
        "    y_pred_df[i] = predictions[i]\n",
        "  return y_pred_df"
      ]
    },
    {
      "cell_type": "code",
      "execution_count": 19,
      "metadata": {
        "id": "ixiUUf_PLenT"
      },
      "outputs": [],
      "source": [
        "from statsmodels.tsa.arima.model import ARIMA\n",
        "\n",
        "def evaluate_arimax():\n",
        "  model = ARIMA(y, order = (1, 0, 0))\n",
        "  sarimax_model = model.fit()\n",
        "  start = len(train)\n",
        "  end = len(train) + len(test) - 1\n",
        "  predictions = sarimax_model.predict(start=start, end=end, dynamic=False)\n",
        "\n",
        "  y_pred_df = test.copy()\n",
        "  for i, value in enumerate(predictions):\n",
        "    y_pred_df[i] = predictions[i]\n",
        "  return y_pred_df"
      ]
    },
    {
      "cell_type": "code",
      "execution_count": 20,
      "metadata": {
        "id": "ODIlDcVvViYT"
      },
      "outputs": [
        {
          "name": "stderr",
          "output_type": "stream",
          "text": [
            "Importing plotly failed. Interactive plots will not work.\n"
          ]
        }
      ],
      "source": [
        "from prophet import Prophet\n",
        "\n",
        "def evaluate_profet():\n",
        "  m = Prophet()\n",
        "  profet_train = train.copy()\n",
        "  df_counts = pd.DataFrame({'y': profet_train, 'ds': profet_train.index})\n",
        "\n",
        "  m.fit(df_counts)\n",
        "\n",
        "  future = m.make_future_dataframe(periods=len(test.values), freq='M', include_history=False)\n",
        "  forecast = m.predict(future)\n",
        "  result = forecast[['ds', 'yhat']]\n",
        "  result = result.rename(columns={'ds': 'index_date', 'yhat': 'count'})\n",
        "  result['count'] = result['count'].astype('int64')\n",
        "  result.set_index('index_date')\n",
        "  return pd.Series(result['count'].values, index=result['index_date'], dtype='int64')"
      ]
    },
    {
      "cell_type": "markdown",
      "metadata": {
        "id": "IOTFAsk0iqWA"
      },
      "source": [
        "# Evaluation of all models"
      ]
    },
    {
      "cell_type": "code",
      "execution_count": 21,
      "metadata": {
        "colab": {
          "base_uri": "https://localhost:8080/",
          "height": 698
        },
        "id": "3IpQP4yj8NYw",
        "outputId": "765c1e69-e7b8-4fe1-ed39-64a6d1655a0d"
      },
      "outputs": [
        {
          "ename": "NameError",
          "evalue": "name 'y' is not defined",
          "output_type": "error",
          "traceback": [
            "\u001b[1;31m---------------------------------------------------------------------------\u001b[0m",
            "\u001b[1;31mNameError\u001b[0m                                 Traceback (most recent call last)",
            "Cell \u001b[1;32mIn[21], line 6\u001b[0m\n\u001b[0;32m      1\u001b[0m \u001b[38;5;28;01mimport\u001b[39;00m \u001b[38;5;21;01mnumpy\u001b[39;00m \u001b[38;5;28;01mas\u001b[39;00m \u001b[38;5;21;01mnp\u001b[39;00m\n\u001b[0;32m      2\u001b[0m \u001b[38;5;28;01mfrom\u001b[39;00m \u001b[38;5;21;01msklearn\u001b[39;00m\u001b[38;5;21;01m.\u001b[39;00m\u001b[38;5;21;01mmetrics\u001b[39;00m \u001b[38;5;28;01mimport\u001b[39;00m mean_squared_error\n\u001b[0;32m      5\u001b[0m models_test_result \u001b[38;5;241m=\u001b[39m {\n\u001b[1;32m----> 6\u001b[0m     \u001b[38;5;124m\"\u001b[39m\u001b[38;5;124mSARIMAX\u001b[39m\u001b[38;5;124m\"\u001b[39m: \u001b[43mevaluate_sarimax\u001b[49m\u001b[43m(\u001b[49m\u001b[43m)\u001b[49m,\n\u001b[0;32m      7\u001b[0m     \u001b[38;5;124m\"\u001b[39m\u001b[38;5;124mARIMAX\u001b[39m\u001b[38;5;124m\"\u001b[39m: evaluate_arimax(),\n\u001b[0;32m      8\u001b[0m     \u001b[38;5;124m\"\u001b[39m\u001b[38;5;124mSARIMAX - sesonal\u001b[39m\u001b[38;5;124m\"\u001b[39m: evaluate_sarimax_sesonal(),\n\u001b[0;32m      9\u001b[0m     \u001b[38;5;124m\"\u001b[39m\u001b[38;5;124mPROFET\u001b[39m\u001b[38;5;124m\"\u001b[39m: evaluate_profet()\n\u001b[0;32m     10\u001b[0m     \u001b[38;5;66;03m# TODO (add more models, eg. LSTM or an opensource model)\u001b[39;00m\n\u001b[0;32m     11\u001b[0m }\n\u001b[0;32m     14\u001b[0m \u001b[38;5;28;01mdef\u001b[39;00m \u001b[38;5;21mevaluate_model_result\u001b[39m(y_predicted_df):\n\u001b[0;32m     15\u001b[0m   \u001b[38;5;28;01mreturn\u001b[39;00m np\u001b[38;5;241m.\u001b[39msqrt(mean_squared_error(test\u001b[38;5;241m.\u001b[39mvalues, y_predicted_df\u001b[38;5;241m.\u001b[39mvalues))\n",
            "Cell \u001b[1;32mIn[17], line 4\u001b[0m, in \u001b[0;36mevaluate_sarimax\u001b[1;34m()\u001b[0m\n\u001b[0;32m      3\u001b[0m \u001b[38;5;28;01mdef\u001b[39;00m \u001b[38;5;21mevaluate_sarimax\u001b[39m():\n\u001b[1;32m----> 4\u001b[0m   model \u001b[38;5;241m=\u001b[39m SARIMAX(\u001b[43my\u001b[49m, order \u001b[38;5;241m=\u001b[39m (\u001b[38;5;241m1\u001b[39m, \u001b[38;5;241m0\u001b[39m, \u001b[38;5;241m0\u001b[39m))\n\u001b[0;32m      5\u001b[0m   sarimax_model \u001b[38;5;241m=\u001b[39m model\u001b[38;5;241m.\u001b[39mfit()\n\u001b[0;32m      6\u001b[0m   start \u001b[38;5;241m=\u001b[39m \u001b[38;5;28mlen\u001b[39m(train)\n",
            "\u001b[1;31mNameError\u001b[0m: name 'y' is not defined"
          ]
        }
      ],
      "source": [
        "import numpy as np\n",
        "from sklearn.metrics import mean_squared_error\n",
        "\n",
        "\n",
        "models_test_result = {\n",
        "    \"SARIMAX\": evaluate_sarimax(),\n",
        "    \"ARIMAX\": evaluate_arimax(),\n",
        "    \"SARIMAX - sesonal\": evaluate_sarimax_sesonal(),\n",
        "    \"PROFET\": evaluate_profet()\n",
        "    # TODO (add more models, eg. LSTM or an opensource model)\n",
        "}\n",
        "\n",
        "\n",
        "def evaluate_model_result(y_predicted_df):\n",
        "  return np.sqrt(mean_squared_error(test.values, y_predicted_df.values))\n",
        "\n",
        "display_autotheft(models_test_result)"
      ]
    },
    {
      "cell_type": "markdown",
      "metadata": {
        "id": "fxcuiN5Eiuk2"
      },
      "source": [
        "# Evaluating each model using RMSE"
      ]
    },
    {
      "cell_type": "code",
      "execution_count": 22,
      "metadata": {
        "colab": {
          "base_uri": "https://localhost:8080/"
        },
        "id": "DomzFPY2K_GU",
        "outputId": "30670f70-b0b5-42ff-cc0b-6ef4c3aa8b70"
      },
      "outputs": [
        {
          "ename": "NameError",
          "evalue": "name 'models_test_result' is not defined",
          "output_type": "error",
          "traceback": [
            "\u001b[1;31m---------------------------------------------------------------------------\u001b[0m",
            "\u001b[1;31mNameError\u001b[0m                                 Traceback (most recent call last)",
            "Cell \u001b[1;32mIn[22], line 1\u001b[0m\n\u001b[1;32m----> 1\u001b[0m \u001b[38;5;28;01mfor\u001b[39;00m label, model_result \u001b[38;5;129;01min\u001b[39;00m \u001b[43mmodels_test_result\u001b[49m\u001b[38;5;241m.\u001b[39mitems():\n\u001b[0;32m      2\u001b[0m   \u001b[38;5;28mprint\u001b[39m(\u001b[38;5;124mf\u001b[39m\u001b[38;5;124m\"\u001b[39m\u001b[38;5;124m[\u001b[39m\u001b[38;5;132;01m{\u001b[39;00mlabel\u001b[38;5;132;01m}\u001b[39;00m\u001b[38;5;124m]RMSE: \u001b[39m\u001b[38;5;132;01m{\u001b[39;00mevaluate_model_result(model_result)\u001b[38;5;132;01m}\u001b[39;00m\u001b[38;5;124m\"\u001b[39m)\n",
            "\u001b[1;31mNameError\u001b[0m: name 'models_test_result' is not defined"
          ]
        }
      ],
      "source": [
        "for label, model_result in models_test_result.items():\n",
        "  print(f\"[{label}]RMSE: {evaluate_model_result(model_result)}\")\n"
      ]
    },
    {
      "cell_type": "markdown",
      "metadata": {
        "id": "XOCiBwL2U0lz"
      },
      "source": [
        "# Interpreting Results\n",
        "\n"
      ]
    },
    {
      "cell_type": "markdown",
      "metadata": {
        "id": "r7hzeHh-U29X"
      },
      "source": [
        "TODO: Add result interpretation here"
      ]
    },
    {
      "cell_type": "code",
      "execution_count": null,
      "metadata": {},
      "outputs": [],
      "source": []
    },
    {
      "cell_type": "markdown",
      "metadata": {},
      "source": [
        "# Added more models with different train test split"
      ]
    },
    {
      "cell_type": "code",
      "execution_count": 23,
      "metadata": {},
      "outputs": [],
      "source": [
        "from sklearn.model_selection import train_test_split\n",
        "import dateutil.parser as parser \n",
        "\n",
        "ts_per_month = ts_per_month.reset_index()\n",
        "\n",
        "ts_per_month[\"date\"] = ts_per_month[\"index_date\"]\n",
        "ts_per_month.set_index('date', inplace=True)\n",
        "\n",
        "ts_per_month = ts_per_month.drop(columns=['index_date'])\n"
      ]
    },
    {
      "cell_type": "code",
      "execution_count": 24,
      "metadata": {},
      "outputs": [],
      "source": [
        "X = ts_per_month.index.astype('int64').values.reshape(-1, 1)\n",
        "y = ts_per_month['count']\n",
        "\n",
        "X_train, X_test, y_train, y_test = train_test_split(X, y, test_size=0.2, random_state=42)"
      ]
    },
    {
      "cell_type": "code",
      "execution_count": 25,
      "metadata": {},
      "outputs": [
        {
          "name": "stdout",
          "output_type": "stream",
          "text": [
            "Best Hyperparameters: {'alpha': 0.1}\n",
            "Mean Squared Error: 22700.985911044485\n"
          ]
        }
      ],
      "source": [
        "from sklearn.linear_model import Ridge\n",
        "from sklearn.model_selection import GridSearchCV\n",
        "from sklearn.metrics import mean_squared_error\n",
        "\n",
        "param_grid = {\n",
        "    'alpha': [0.1, 1, 10, 100] \n",
        "}\n",
        "\n",
        "model = Ridge()\n",
        "\n",
        "grid_search = GridSearchCV(estimator=model, param_grid=param_grid, cv=5, scoring='neg_mean_squared_error')\n",
        "\n",
        "grid_search.fit(X_train, y_train)\n",
        "\n",
        "best_params = grid_search.best_params_\n",
        "print(\"Best Hyperparameters:\", best_params)\n",
        "\n",
        "best_model = Ridge(alpha=best_params['alpha'])\n",
        "\n",
        "best_model.fit(X_train, y_train)\n",
        "\n",
        "y_pred = best_model.predict(X_test)\n",
        "\n",
        "mse = mean_squared_error(y_test, y_pred)\n",
        "print(\"Mean Squared Error:\", mse)"
      ]
    },
    {
      "cell_type": "code",
      "execution_count": 26,
      "metadata": {},
      "outputs": [
        {
          "name": "stdout",
          "output_type": "stream",
          "text": [
            "Mean Squared Error: 4065.2083333333335\n"
          ]
        }
      ],
      "source": [
        "from sklearn.tree import DecisionTreeRegressor\n",
        "\n",
        "model = DecisionTreeRegressor()\n",
        "\n",
        "model.fit(X_train, y_train)\n",
        "\n",
        "y_pred = model.predict(X_test)\n",
        "\n",
        "mse = mean_squared_error(y_test, y_pred)\n",
        "print(\"Mean Squared Error:\", mse)\n"
      ]
    },
    {
      "cell_type": "code",
      "execution_count": 27,
      "metadata": {},
      "outputs": [
        {
          "name": "stdout",
          "output_type": "stream",
          "text": [
            "Best Hyperparameters: {'max_depth': None, 'min_samples_leaf': 4, 'min_samples_split': 2, 'n_estimators': 100}\n",
            "Mean Squared Error: 4216.428022436562\n"
          ]
        }
      ],
      "source": [
        "from sklearn.ensemble import RandomForestRegressor\n",
        "from sklearn.model_selection import GridSearchCV\n",
        "\n",
        "param_grid = {\n",
        "    'n_estimators': [100, 200, 300],\n",
        "    'max_depth': [None, 10, 20],\n",
        "    'min_samples_split': [2, 5, 10],\n",
        "    'min_samples_leaf': [1, 2, 4]\n",
        "}\n",
        "\n",
        "model = RandomForestRegressor()\n",
        "\n",
        "grid_search = GridSearchCV(estimator=model, param_grid=param_grid, cv=5, scoring='neg_mean_squared_error')\n",
        "\n",
        "grid_search.fit(X_train, y_train)\n",
        "\n",
        "best_params = grid_search.best_params_\n",
        "print(\"Best Hyperparameters:\", best_params)\n",
        "\n",
        "best_model = RandomForestRegressor(**best_params)\n",
        "\n",
        "best_model.fit(X_train, y_train)\n",
        "\n",
        "y_pred = best_model.predict(X_test)\n",
        "\n",
        "mse = mean_squared_error(y_test, y_pred)\n",
        "print(\"Mean Squared Error:\", mse)\n"
      ]
    },
    {
      "cell_type": "code",
      "execution_count": 28,
      "metadata": {},
      "outputs": [
        {
          "name": "stdout",
          "output_type": "stream",
          "text": [
            "Mean Squared Error: 3529.473780169921\n"
          ]
        }
      ],
      "source": [
        "from sklearn.ensemble import GradientBoostingRegressor\n",
        "\n",
        "model = GradientBoostingRegressor()\n",
        "\n",
        "# Train the model\n",
        "model.fit(X_train, y_train)\n",
        "\n",
        "y_pred = model.predict(X_test)\n",
        "\n",
        "mse = mean_squared_error(y_test, y_pred)\n",
        "print(\"Mean Squared Error:\", mse)\n"
      ]
    },
    {
      "cell_type": "code",
      "execution_count": 29,
      "metadata": {},
      "outputs": [
        {
          "name": "stdout",
          "output_type": "stream",
          "text": [
            "Mean Squared Error: 22700.985911044485\n"
          ]
        }
      ],
      "source": [
        "from sklearn.model_selection import train_test_split\n",
        "from sklearn.linear_model import LinearRegression\n",
        "from sklearn.metrics import mean_squared_error\n",
        "\n",
        "model = LinearRegression()\n",
        "model.fit(X_train, y_train)\n",
        "\n",
        "y_pred = model.predict(X_test)\n",
        "\n",
        "mse = mean_squared_error(y_test, y_pred)\n",
        "print(\"Mean Squared Error:\", mse)"
      ]
    },
    {
      "cell_type": "code",
      "execution_count": 30,
      "metadata": {},
      "outputs": [
        {
          "name": "stdout",
          "output_type": "stream",
          "text": [
            "Epoch 1/100\n",
            "\u001b[1m3/3\u001b[0m \u001b[32m━━━━━━━━━━━━━━━━━━━━\u001b[0m\u001b[37m\u001b[0m \u001b[1m1s\u001b[0m 2ms/step - loss: 281483.1875  \n",
            "Epoch 2/100\n",
            "\u001b[1m3/3\u001b[0m \u001b[32m━━━━━━━━━━━━━━━━━━━━\u001b[0m\u001b[37m\u001b[0m \u001b[1m0s\u001b[0m 1ms/step - loss: 285984.5625 \n",
            "Epoch 3/100\n",
            "\u001b[1m3/3\u001b[0m \u001b[32m━━━━━━━━━━━━━━━━━━━━\u001b[0m\u001b[37m\u001b[0m \u001b[1m0s\u001b[0m 2ms/step - loss: 258214.4531 \n",
            "Epoch 4/100\n",
            "\u001b[1m3/3\u001b[0m \u001b[32m━━━━━━━━━━━━━━━━━━━━\u001b[0m\u001b[37m\u001b[0m \u001b[1m0s\u001b[0m 2ms/step - loss: 283311.9375 \n",
            "Epoch 5/100\n",
            "\u001b[1m3/3\u001b[0m \u001b[32m━━━━━━━━━━━━━━━━━━━━\u001b[0m\u001b[37m\u001b[0m \u001b[1m0s\u001b[0m 2ms/step - loss: 283925.8438 \n",
            "Epoch 6/100\n",
            "\u001b[1m3/3\u001b[0m \u001b[32m━━━━━━━━━━━━━━━━━━━━\u001b[0m\u001b[37m\u001b[0m \u001b[1m0s\u001b[0m 1ms/step - loss: 312685.1250 \n",
            "Epoch 7/100\n",
            "\u001b[1m3/3\u001b[0m \u001b[32m━━━━━━━━━━━━━━━━━━━━\u001b[0m\u001b[37m\u001b[0m \u001b[1m0s\u001b[0m 1ms/step - loss: 261698.0625 \n",
            "Epoch 8/100\n",
            "\u001b[1m3/3\u001b[0m \u001b[32m━━━━━━━━━━━━━━━━━━━━\u001b[0m\u001b[37m\u001b[0m \u001b[1m0s\u001b[0m 1ms/step - loss: 278668.8438 \n",
            "Epoch 9/100\n",
            "\u001b[1m3/3\u001b[0m \u001b[32m━━━━━━━━━━━━━━━━━━━━\u001b[0m\u001b[37m\u001b[0m \u001b[1m0s\u001b[0m 1ms/step - loss: 292213.9375 \n",
            "Epoch 10/100\n",
            "\u001b[1m3/3\u001b[0m \u001b[32m━━━━━━━━━━━━━━━━━━━━\u001b[0m\u001b[37m\u001b[0m \u001b[1m0s\u001b[0m 2ms/step - loss: 289973.1562 \n",
            "Epoch 11/100\n",
            "\u001b[1m3/3\u001b[0m \u001b[32m━━━━━━━━━━━━━━━━━━━━\u001b[0m\u001b[37m\u001b[0m \u001b[1m0s\u001b[0m 1ms/step - loss: 296178.5312 \n",
            "Epoch 12/100\n",
            "\u001b[1m3/3\u001b[0m \u001b[32m━━━━━━━━━━━━━━━━━━━━\u001b[0m\u001b[37m\u001b[0m \u001b[1m0s\u001b[0m 1ms/step - loss: 283214.0938 \n",
            "Epoch 13/100\n",
            "\u001b[1m3/3\u001b[0m \u001b[32m━━━━━━━━━━━━━━━━━━━━\u001b[0m\u001b[37m\u001b[0m \u001b[1m0s\u001b[0m 1ms/step - loss: 292528.2188 \n",
            "Epoch 14/100\n",
            "\u001b[1m3/3\u001b[0m \u001b[32m━━━━━━━━━━━━━━━━━━━━\u001b[0m\u001b[37m\u001b[0m \u001b[1m0s\u001b[0m 1ms/step - loss: 292957.7812 \n",
            "Epoch 15/100\n",
            "\u001b[1m3/3\u001b[0m \u001b[32m━━━━━━━━━━━━━━━━━━━━\u001b[0m\u001b[37m\u001b[0m \u001b[1m0s\u001b[0m 1ms/step - loss: 263897.0000 \n",
            "Epoch 16/100\n",
            "\u001b[1m3/3\u001b[0m \u001b[32m━━━━━━━━━━━━━━━━━━━━\u001b[0m\u001b[37m\u001b[0m \u001b[1m0s\u001b[0m 1ms/step - loss: 270279.0312 \n",
            "Epoch 17/100\n",
            "\u001b[1m3/3\u001b[0m \u001b[32m━━━━━━━━━━━━━━━━━━━━\u001b[0m\u001b[37m\u001b[0m \u001b[1m0s\u001b[0m 1ms/step - loss: 285604.6875 \n",
            "Epoch 18/100\n",
            "\u001b[1m3/3\u001b[0m \u001b[32m━━━━━━━━━━━━━━━━━━━━\u001b[0m\u001b[37m\u001b[0m \u001b[1m0s\u001b[0m 1ms/step - loss: 294714.7188 \n",
            "Epoch 19/100\n",
            "\u001b[1m3/3\u001b[0m \u001b[32m━━━━━━━━━━━━━━━━━━━━\u001b[0m\u001b[37m\u001b[0m \u001b[1m0s\u001b[0m 1000us/step - loss: 283090.9375\n",
            "Epoch 20/100\n",
            "\u001b[1m3/3\u001b[0m \u001b[32m━━━━━━━━━━━━━━━━━━━━\u001b[0m\u001b[37m\u001b[0m \u001b[1m0s\u001b[0m 1ms/step - loss: 268408.2500 \n",
            "Epoch 21/100\n",
            "\u001b[1m3/3\u001b[0m \u001b[32m━━━━━━━━━━━━━━━━━━━━\u001b[0m\u001b[37m\u001b[0m \u001b[1m0s\u001b[0m 1ms/step - loss: 264211.6562 \n",
            "Epoch 22/100\n",
            "\u001b[1m3/3\u001b[0m \u001b[32m━━━━━━━━━━━━━━━━━━━━\u001b[0m\u001b[37m\u001b[0m \u001b[1m0s\u001b[0m 1ms/step - loss: 271285.7812 \n",
            "Epoch 23/100\n",
            "\u001b[1m3/3\u001b[0m \u001b[32m━━━━━━━━━━━━━━━━━━━━\u001b[0m\u001b[37m\u001b[0m \u001b[1m0s\u001b[0m 1ms/step - loss: 274509.8125 \n",
            "Epoch 24/100\n",
            "\u001b[1m3/3\u001b[0m \u001b[32m━━━━━━━━━━━━━━━━━━━━\u001b[0m\u001b[37m\u001b[0m \u001b[1m0s\u001b[0m 1ms/step - loss: 254107.3750 \n",
            "Epoch 25/100\n",
            "\u001b[1m3/3\u001b[0m \u001b[32m━━━━━━━━━━━━━━━━━━━━\u001b[0m\u001b[37m\u001b[0m \u001b[1m0s\u001b[0m 1ms/step - loss: 274065.6875 \n",
            "Epoch 26/100\n",
            "\u001b[1m3/3\u001b[0m \u001b[32m━━━━━━━━━━━━━━━━━━━━\u001b[0m\u001b[37m\u001b[0m \u001b[1m0s\u001b[0m 1ms/step - loss: 260643.5938 \n",
            "Epoch 27/100\n",
            "\u001b[1m3/3\u001b[0m \u001b[32m━━━━━━━━━━━━━━━━━━━━\u001b[0m\u001b[37m\u001b[0m \u001b[1m0s\u001b[0m 1ms/step - loss: 247639.0156 \n",
            "Epoch 28/100\n",
            "\u001b[1m3/3\u001b[0m \u001b[32m━━━━━━━━━━━━━━━━━━━━\u001b[0m\u001b[37m\u001b[0m \u001b[1m0s\u001b[0m 1ms/step - loss: 278595.3438 \n",
            "Epoch 29/100\n",
            "\u001b[1m3/3\u001b[0m \u001b[32m━━━━━━━━━━━━━━━━━━━━\u001b[0m\u001b[37m\u001b[0m \u001b[1m0s\u001b[0m 1ms/step - loss: 269527.8750 \n",
            "Epoch 30/100\n",
            "\u001b[1m3/3\u001b[0m \u001b[32m━━━━━━━━━━━━━━━━━━━━\u001b[0m\u001b[37m\u001b[0m \u001b[1m0s\u001b[0m 1ms/step - loss: 237410.1406 \n",
            "Epoch 31/100\n",
            "\u001b[1m3/3\u001b[0m \u001b[32m━━━━━━━━━━━━━━━━━━━━\u001b[0m\u001b[37m\u001b[0m \u001b[1m0s\u001b[0m 2ms/step - loss: 251502.2500 \n",
            "Epoch 32/100\n",
            "\u001b[1m3/3\u001b[0m \u001b[32m━━━━━━━━━━━━━━━━━━━━\u001b[0m\u001b[37m\u001b[0m \u001b[1m0s\u001b[0m 1ms/step - loss: 271846.9688 \n",
            "Epoch 33/100\n",
            "\u001b[1m3/3\u001b[0m \u001b[32m━━━━━━━━━━━━━━━━━━━━\u001b[0m\u001b[37m\u001b[0m \u001b[1m0s\u001b[0m 1ms/step - loss: 259635.0000 \n",
            "Epoch 34/100\n",
            "\u001b[1m3/3\u001b[0m \u001b[32m━━━━━━━━━━━━━━━━━━━━\u001b[0m\u001b[37m\u001b[0m \u001b[1m0s\u001b[0m 1ms/step - loss: 237475.2344 \n",
            "Epoch 35/100\n",
            "\u001b[1m3/3\u001b[0m \u001b[32m━━━━━━━━━━━━━━━━━━━━\u001b[0m\u001b[37m\u001b[0m \u001b[1m0s\u001b[0m 1ms/step - loss: 225523.0625 \n",
            "Epoch 36/100\n",
            "\u001b[1m3/3\u001b[0m \u001b[32m━━━━━━━━━━━━━━━━━━━━\u001b[0m\u001b[37m\u001b[0m \u001b[1m0s\u001b[0m 1ms/step - loss: 232807.6406 \n",
            "Epoch 37/100\n",
            "\u001b[1m3/3\u001b[0m \u001b[32m━━━━━━━━━━━━━━━━━━━━\u001b[0m\u001b[37m\u001b[0m \u001b[1m0s\u001b[0m 1ms/step - loss: 245875.3594 \n",
            "Epoch 38/100\n",
            "\u001b[1m3/3\u001b[0m \u001b[32m━━━━━━━━━━━━━━━━━━━━\u001b[0m\u001b[37m\u001b[0m \u001b[1m0s\u001b[0m 2ms/step - loss: 246707.2656 \n",
            "Epoch 39/100\n",
            "\u001b[1m3/3\u001b[0m \u001b[32m━━━━━━━━━━━━━━━━━━━━\u001b[0m\u001b[37m\u001b[0m \u001b[1m0s\u001b[0m 750us/step - loss: 221368.0469\n",
            "Epoch 40/100\n",
            "\u001b[1m3/3\u001b[0m \u001b[32m━━━━━━━━━━━━━━━━━━━━\u001b[0m\u001b[37m\u001b[0m \u001b[1m0s\u001b[0m 1ms/step - loss: 214803.2344 \n",
            "Epoch 41/100\n",
            "\u001b[1m3/3\u001b[0m \u001b[32m━━━━━━━━━━━━━━━━━━━━\u001b[0m\u001b[37m\u001b[0m \u001b[1m0s\u001b[0m 1ms/step - loss: 209244.7188 \n",
            "Epoch 42/100\n",
            "\u001b[1m3/3\u001b[0m \u001b[32m━━━━━━━━━━━━━━━━━━━━\u001b[0m\u001b[37m\u001b[0m \u001b[1m0s\u001b[0m 1ms/step - loss: 221899.6250 \n",
            "Epoch 43/100\n",
            "\u001b[1m3/3\u001b[0m \u001b[32m━━━━━━━━━━━━━━━━━━━━\u001b[0m\u001b[37m\u001b[0m \u001b[1m0s\u001b[0m 1000us/step - loss: 216041.6719\n",
            "Epoch 44/100\n",
            "\u001b[1m3/3\u001b[0m \u001b[32m━━━━━━━━━━━━━━━━━━━━\u001b[0m\u001b[37m\u001b[0m \u001b[1m0s\u001b[0m 1000us/step - loss: 224528.3125\n",
            "Epoch 45/100\n",
            "\u001b[1m3/3\u001b[0m \u001b[32m━━━━━━━━━━━━━━━━━━━━\u001b[0m\u001b[37m\u001b[0m \u001b[1m0s\u001b[0m 1ms/step - loss: 183107.2031 \n",
            "Epoch 46/100\n",
            "\u001b[1m3/3\u001b[0m \u001b[32m━━━━━━━━━━━━━━━━━━━━\u001b[0m\u001b[37m\u001b[0m \u001b[1m0s\u001b[0m 750us/step - loss: 185670.8906\n",
            "Epoch 47/100\n",
            "\u001b[1m3/3\u001b[0m \u001b[32m━━━━━━━━━━━━━━━━━━━━\u001b[0m\u001b[37m\u001b[0m \u001b[1m0s\u001b[0m 1000us/step - loss: 212539.3438\n",
            "Epoch 48/100\n",
            "\u001b[1m3/3\u001b[0m \u001b[32m━━━━━━━━━━━━━━━━━━━━\u001b[0m\u001b[37m\u001b[0m \u001b[1m0s\u001b[0m 1ms/step - loss: 179957.2344 \n",
            "Epoch 49/100\n",
            "\u001b[1m3/3\u001b[0m \u001b[32m━━━━━━━━━━━━━━━━━━━━\u001b[0m\u001b[37m\u001b[0m \u001b[1m0s\u001b[0m 2ms/step - loss: 183694.5312 \n",
            "Epoch 50/100\n",
            "\u001b[1m3/3\u001b[0m \u001b[32m━━━━━━━━━━━━━━━━━━━━\u001b[0m\u001b[37m\u001b[0m \u001b[1m0s\u001b[0m 1ms/step - loss: 156224.4688 \n",
            "Epoch 51/100\n",
            "\u001b[1m3/3\u001b[0m \u001b[32m━━━━━━━━━━━━━━━━━━━━\u001b[0m\u001b[37m\u001b[0m \u001b[1m0s\u001b[0m 1ms/step - loss: 160554.6562 \n",
            "Epoch 52/100\n",
            "\u001b[1m3/3\u001b[0m \u001b[32m━━━━━━━━━━━━━━━━━━━━\u001b[0m\u001b[37m\u001b[0m \u001b[1m0s\u001b[0m 1000us/step - loss: 142657.8125\n",
            "Epoch 53/100\n",
            "\u001b[1m3/3\u001b[0m \u001b[32m━━━━━━━━━━━━━━━━━━━━\u001b[0m\u001b[37m\u001b[0m \u001b[1m0s\u001b[0m 1ms/step - loss: 130646.1328 \n",
            "Epoch 54/100\n",
            "\u001b[1m3/3\u001b[0m \u001b[32m━━━━━━━━━━━━━━━━━━━━\u001b[0m\u001b[37m\u001b[0m \u001b[1m0s\u001b[0m 1ms/step - loss: 152214.9688 \n",
            "Epoch 55/100\n",
            "\u001b[1m3/3\u001b[0m \u001b[32m━━━━━━━━━━━━━━━━━━━━\u001b[0m\u001b[37m\u001b[0m \u001b[1m0s\u001b[0m 1ms/step - loss: 147151.2656 \n",
            "Epoch 56/100\n",
            "\u001b[1m3/3\u001b[0m \u001b[32m━━━━━━━━━━━━━━━━━━━━\u001b[0m\u001b[37m\u001b[0m \u001b[1m0s\u001b[0m 1ms/step - loss: 127979.7812 \n",
            "Epoch 57/100\n",
            "\u001b[1m3/3\u001b[0m \u001b[32m━━━━━━━━━━━━━━━━━━━━\u001b[0m\u001b[37m\u001b[0m \u001b[1m0s\u001b[0m 1000us/step - loss: 119351.8906\n",
            "Epoch 58/100\n",
            "\u001b[1m3/3\u001b[0m \u001b[32m━━━━━━━━━━━━━━━━━━━━\u001b[0m\u001b[37m\u001b[0m \u001b[1m0s\u001b[0m 1ms/step - loss: 121043.7031 \n",
            "Epoch 59/100\n",
            "\u001b[1m3/3\u001b[0m \u001b[32m━━━━━━━━━━━━━━━━━━━━\u001b[0m\u001b[37m\u001b[0m \u001b[1m0s\u001b[0m 1ms/step - loss: 120904.6016 \n",
            "Epoch 60/100\n",
            "\u001b[1m3/3\u001b[0m \u001b[32m━━━━━━━━━━━━━━━━━━━━\u001b[0m\u001b[37m\u001b[0m \u001b[1m0s\u001b[0m 1ms/step - loss: 124290.8203 \n",
            "Epoch 61/100\n",
            "\u001b[1m3/3\u001b[0m \u001b[32m━━━━━━━━━━━━━━━━━━━━\u001b[0m\u001b[37m\u001b[0m \u001b[1m0s\u001b[0m 1ms/step - loss: 103259.0469 \n",
            "Epoch 62/100\n",
            "\u001b[1m3/3\u001b[0m \u001b[32m━━━━━━━━━━━━━━━━━━━━\u001b[0m\u001b[37m\u001b[0m \u001b[1m0s\u001b[0m 1ms/step - loss: 94981.3594 \n",
            "Epoch 63/100\n",
            "\u001b[1m3/3\u001b[0m \u001b[32m━━━━━━━━━━━━━━━━━━━━\u001b[0m\u001b[37m\u001b[0m \u001b[1m0s\u001b[0m 1ms/step - loss: 101625.5078 \n",
            "Epoch 64/100\n",
            "\u001b[1m3/3\u001b[0m \u001b[32m━━━━━━━━━━━━━━━━━━━━\u001b[0m\u001b[37m\u001b[0m \u001b[1m0s\u001b[0m 1ms/step - loss: 98406.8281  \n",
            "Epoch 65/100\n",
            "\u001b[1m3/3\u001b[0m \u001b[32m━━━━━━━━━━━━━━━━━━━━\u001b[0m\u001b[37m\u001b[0m \u001b[1m0s\u001b[0m 1ms/step - loss: 90067.6719 \n",
            "Epoch 66/100\n",
            "\u001b[1m3/3\u001b[0m \u001b[32m━━━━━━━━━━━━━━━━━━━━\u001b[0m\u001b[37m\u001b[0m \u001b[1m0s\u001b[0m 1ms/step - loss: 86313.6406 \n",
            "Epoch 67/100\n",
            "\u001b[1m3/3\u001b[0m \u001b[32m━━━━━━━━━━━━━━━━━━━━\u001b[0m\u001b[37m\u001b[0m \u001b[1m0s\u001b[0m 2ms/step - loss: 79986.7969 \n",
            "Epoch 68/100\n",
            "\u001b[1m3/3\u001b[0m \u001b[32m━━━━━━━━━━━━━━━━━━━━\u001b[0m\u001b[37m\u001b[0m \u001b[1m0s\u001b[0m 750us/step - loss: 81714.4844\n",
            "Epoch 69/100\n",
            "\u001b[1m3/3\u001b[0m \u001b[32m━━━━━━━━━━━━━━━━━━━━\u001b[0m\u001b[37m\u001b[0m \u001b[1m0s\u001b[0m 1ms/step - loss: 89750.5312  \n",
            "Epoch 70/100\n",
            "\u001b[1m3/3\u001b[0m \u001b[32m━━━━━━━━━━━━━━━━━━━━\u001b[0m\u001b[37m\u001b[0m \u001b[1m0s\u001b[0m 1ms/step - loss: 88053.7656  \n",
            "Epoch 71/100\n",
            "\u001b[1m3/3\u001b[0m \u001b[32m━━━━━━━━━━━━━━━━━━━━\u001b[0m\u001b[37m\u001b[0m \u001b[1m0s\u001b[0m 1ms/step - loss: 78809.8281 \n",
            "Epoch 72/100\n",
            "\u001b[1m3/3\u001b[0m \u001b[32m━━━━━━━━━━━━━━━━━━━━\u001b[0m\u001b[37m\u001b[0m \u001b[1m0s\u001b[0m 1ms/step - loss: 65492.8789 \n",
            "Epoch 73/100\n",
            "\u001b[1m3/3\u001b[0m \u001b[32m━━━━━━━━━━━━━━━━━━━━\u001b[0m\u001b[37m\u001b[0m \u001b[1m0s\u001b[0m 1ms/step - loss: 57213.7656 \n",
            "Epoch 74/100\n",
            "\u001b[1m3/3\u001b[0m \u001b[32m━━━━━━━━━━━━━━━━━━━━\u001b[0m\u001b[37m\u001b[0m \u001b[1m0s\u001b[0m 1ms/step - loss: 68897.8438 \n",
            "Epoch 75/100\n",
            "\u001b[1m3/3\u001b[0m \u001b[32m━━━━━━━━━━━━━━━━━━━━\u001b[0m\u001b[37m\u001b[0m \u001b[1m0s\u001b[0m 1ms/step - loss: 55975.4141 \n",
            "Epoch 76/100\n",
            "\u001b[1m3/3\u001b[0m \u001b[32m━━━━━━━━━━━━━━━━━━━━\u001b[0m\u001b[37m\u001b[0m \u001b[1m0s\u001b[0m 1ms/step - loss: 57900.5000 \n",
            "Epoch 77/100\n",
            "\u001b[1m3/3\u001b[0m \u001b[32m━━━━━━━━━━━━━━━━━━━━\u001b[0m\u001b[37m\u001b[0m \u001b[1m0s\u001b[0m 1ms/step - loss: 57314.0859 \n",
            "Epoch 78/100\n",
            "\u001b[1m3/3\u001b[0m \u001b[32m━━━━━━━━━━━━━━━━━━━━\u001b[0m\u001b[37m\u001b[0m \u001b[1m0s\u001b[0m 2ms/step - loss: 54530.1523 \n",
            "Epoch 79/100\n",
            "\u001b[1m3/3\u001b[0m \u001b[32m━━━━━━━━━━━━━━━━━━━━\u001b[0m\u001b[37m\u001b[0m \u001b[1m0s\u001b[0m 1ms/step - loss: 55466.2930 \n",
            "Epoch 80/100\n",
            "\u001b[1m3/3\u001b[0m \u001b[32m━━━━━━━━━━━━━━━━━━━━\u001b[0m\u001b[37m\u001b[0m \u001b[1m0s\u001b[0m 1ms/step - loss: 57539.9453 \n",
            "Epoch 81/100\n",
            "\u001b[1m3/3\u001b[0m \u001b[32m━━━━━━━━━━━━━━━━━━━━\u001b[0m\u001b[37m\u001b[0m \u001b[1m0s\u001b[0m 1ms/step - loss: 62894.4023 \n",
            "Epoch 82/100\n",
            "\u001b[1m3/3\u001b[0m \u001b[32m━━━━━━━━━━━━━━━━━━━━\u001b[0m\u001b[37m\u001b[0m \u001b[1m0s\u001b[0m 1000us/step - loss: 63362.2539\n",
            "Epoch 83/100\n",
            "\u001b[1m3/3\u001b[0m \u001b[32m━━━━━━━━━━━━━━━━━━━━\u001b[0m\u001b[37m\u001b[0m \u001b[1m0s\u001b[0m 1ms/step - loss: 57935.1562 \n",
            "Epoch 84/100\n",
            "\u001b[1m3/3\u001b[0m \u001b[32m━━━━━━━━━━━━━━━━━━━━\u001b[0m\u001b[37m\u001b[0m \u001b[1m0s\u001b[0m 1000us/step - loss: 61300.4766\n",
            "Epoch 85/100\n",
            "\u001b[1m3/3\u001b[0m \u001b[32m━━━━━━━━━━━━━━━━━━━━\u001b[0m\u001b[37m\u001b[0m \u001b[1m0s\u001b[0m 1ms/step - loss: 55603.4883 \n",
            "Epoch 86/100\n",
            "\u001b[1m3/3\u001b[0m \u001b[32m━━━━━━━━━━━━━━━━━━━━\u001b[0m\u001b[37m\u001b[0m \u001b[1m0s\u001b[0m 1000us/step - loss: 57552.8125\n",
            "Epoch 87/100\n",
            "\u001b[1m3/3\u001b[0m \u001b[32m━━━━━━━━━━━━━━━━━━━━\u001b[0m\u001b[37m\u001b[0m \u001b[1m0s\u001b[0m 1ms/step - loss: 54293.9375 \n",
            "Epoch 88/100\n",
            "\u001b[1m3/3\u001b[0m \u001b[32m━━━━━━━━━━━━━━━━━━━━\u001b[0m\u001b[37m\u001b[0m \u001b[1m0s\u001b[0m 2ms/step - loss: 50697.3828 \n",
            "Epoch 89/100\n",
            "\u001b[1m3/3\u001b[0m \u001b[32m━━━━━━━━━━━━━━━━━━━━\u001b[0m\u001b[37m\u001b[0m \u001b[1m0s\u001b[0m 2ms/step - loss: 57123.3320 \n",
            "Epoch 90/100\n",
            "\u001b[1m3/3\u001b[0m \u001b[32m━━━━━━━━━━━━━━━━━━━━\u001b[0m\u001b[37m\u001b[0m \u001b[1m0s\u001b[0m 750us/step - loss: 63489.3672\n",
            "Epoch 91/100\n",
            "\u001b[1m3/3\u001b[0m \u001b[32m━━━━━━━━━━━━━━━━━━━━\u001b[0m\u001b[37m\u001b[0m \u001b[1m0s\u001b[0m 1ms/step - loss: 64222.0625 \n",
            "Epoch 92/100\n",
            "\u001b[1m3/3\u001b[0m \u001b[32m━━━━━━━━━━━━━━━━━━━━\u001b[0m\u001b[37m\u001b[0m \u001b[1m0s\u001b[0m 1ms/step - loss: 54783.3906 \n",
            "Epoch 93/100\n",
            "\u001b[1m3/3\u001b[0m \u001b[32m━━━━━━━━━━━━━━━━━━━━\u001b[0m\u001b[37m\u001b[0m \u001b[1m0s\u001b[0m 1ms/step - loss: 65786.2812 \n",
            "Epoch 94/100\n",
            "\u001b[1m3/3\u001b[0m \u001b[32m━━━━━━━━━━━━━━━━━━━━\u001b[0m\u001b[37m\u001b[0m \u001b[1m0s\u001b[0m 1ms/step - loss: 61572.9766 \n",
            "Epoch 95/100\n",
            "\u001b[1m3/3\u001b[0m \u001b[32m━━━━━━━━━━━━━━━━━━━━\u001b[0m\u001b[37m\u001b[0m \u001b[1m0s\u001b[0m 1000us/step - loss: 61514.3828\n",
            "Epoch 96/100\n",
            "\u001b[1m3/3\u001b[0m \u001b[32m━━━━━━━━━━━━━━━━━━━━\u001b[0m\u001b[37m\u001b[0m \u001b[1m0s\u001b[0m 1ms/step - loss: 58524.7070 \n",
            "Epoch 97/100\n",
            "\u001b[1m3/3\u001b[0m \u001b[32m━━━━━━━━━━━━━━━━━━━━\u001b[0m\u001b[37m\u001b[0m \u001b[1m0s\u001b[0m 1ms/step - loss: 53917.4844 \n",
            "Epoch 98/100\n",
            "\u001b[1m3/3\u001b[0m \u001b[32m━━━━━━━━━━━━━━━━━━━━\u001b[0m\u001b[37m\u001b[0m \u001b[1m0s\u001b[0m 2ms/step - loss: 54421.9453 \n",
            "Epoch 99/100\n",
            "\u001b[1m3/3\u001b[0m \u001b[32m━━━━━━━━━━━━━━━━━━━━\u001b[0m\u001b[37m\u001b[0m \u001b[1m0s\u001b[0m 751us/step - loss: 56043.8555\n",
            "Epoch 100/100\n",
            "\u001b[1m3/3\u001b[0m \u001b[32m━━━━━━━━━━━━━━━━━━━━\u001b[0m\u001b[37m\u001b[0m \u001b[1m0s\u001b[0m 1ms/step - loss: 56209.9805 \n",
            "\u001b[1m1/1\u001b[0m \u001b[32m━━━━━━━━━━━━━━━━━━━━\u001b[0m\u001b[37m\u001b[0m \u001b[1m0s\u001b[0m 84ms/step\n",
            "Mean Squared Error: 67769.50712720926\n"
          ]
        }
      ],
      "source": [
        "from tensorflow.keras.models import Sequential\n",
        "from tensorflow.keras.layers import LSTM, Dense\n",
        "\n",
        "X_train_reshaped = X_train.reshape((X_train.shape[0], 1, X_train.shape[1]))\n",
        "X_test_reshaped = X_test.reshape((X_test.shape[0], 1, X_test.shape[1]))\n",
        "\n",
        "model = Sequential()\n",
        "model.add(LSTM(50, input_shape=(X_train_reshaped.shape[1], X_train_reshaped.shape[2])))\n",
        "model.add(Dense(64, activation='relu', input_shape=(X_train.shape[1],)))\n",
        "model.add(Dense(64, activation='relu'))\n",
        "model.add(Dense(1))\n",
        "model.compile(optimizer='adam', loss='mse')\n",
        "\n",
        "model.fit(X_train_reshaped, y_train, epochs=100, batch_size=32, verbose=1)\n",
        "\n",
        "y_pred = model.predict(X_test_reshaped)\n",
        "\n",
        "mse = mean_squared_error(y_test, y_pred)\n",
        "print(\"Mean Squared Error:\", mse)"
      ]
    },
    {
      "cell_type": "code",
      "execution_count": 31,
      "metadata": {},
      "outputs": [
        {
          "name": "stdout",
          "output_type": "stream",
          "text": [
            "Mean Squared Error: 69675.01350606367\n"
          ]
        }
      ],
      "source": [
        "from sklearn.svm import SVR\n",
        "from sklearn.metrics import mean_squared_error\n",
        "\n",
        "model = SVR(kernel='rbf') \n",
        "model.fit(X_train, y_train)\n",
        "\n",
        "y_pred = model.predict(X_test)\n",
        "\n",
        "mse = mean_squared_error(y_test, y_pred)\n",
        "print(\"Mean Squared Error:\", mse)"
      ]
    }
  ],
  "metadata": {
    "colab": {
      "authorship_tag": "ABX9TyPEdd2Yh5bQPLJYDRGz8wYr",
      "include_colab_link": true,
      "provenance": []
    },
    "kernelspec": {
      "display_name": "Python 3",
      "name": "python3"
    },
    "language_info": {
      "codemirror_mode": {
        "name": "ipython",
        "version": 3
      },
      "file_extension": ".py",
      "mimetype": "text/x-python",
      "name": "python",
      "nbconvert_exporter": "python",
      "pygments_lexer": "ipython3",
      "version": "3.11.4"
    }
  },
  "nbformat": 4,
  "nbformat_minor": 0
}
